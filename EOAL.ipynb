{
 "cells": [
  {
   "attachments": {},
   "cell_type": "markdown",
   "metadata": {},
   "source": [
    "# EOAL final\n",
    "by Dmitry Beresnev, d.beresnev@innopolis.university  \n",
    "by Vsevolod Klyushev, v.klyushev@innopolis.university"
   ]
  },
  {
   "cell_type": "code",
   "execution_count": 1,
   "metadata": {},
   "outputs": [],
   "source": [
    "def J(U):\n",
    "    global N, A, ALPHA, BETA, GAMMA, R\n",
    "\n",
    "    total_cost = A*sum(ALPHA) + sum(GAMMA) + sum([b*u*u for b,u in zip(BETA, U)])\n",
    "    u_r_differences = [u-r for u, r in zip(U, R)]\n",
    "    for i in range(N):\n",
    "        total_cost += ALPHA[i] * sum(u_r_differences[:i])\n",
    "    return total_cost"
   ]
  },
  {
   "cell_type": "code",
   "execution_count": 2,
   "metadata": {},
   "outputs": [],
   "source": [
    "def check_constraints(U):\n",
    "    \"\"\"g(u)\"\"\"\n",
    "    global N, A, R\n",
    "\n",
    "    r_u_differences = [r-u for u, r in zip(U, R)]\n",
    "\n",
    "    constraints_list = [(-A + sum(r_u_differences[:i+1])) for i in range(N)]\n",
    "\n",
    "    return all([c <= 0 for c in constraints_list])"
   ]
  },
  {
   "cell_type": "code",
   "execution_count": 3,
   "metadata": {},
   "outputs": [],
   "source": [
    "def check_positive(l):\n",
    "    return all([x >=0 for x in l])"
   ]
  },
  {
   "cell_type": "code",
   "execution_count": 4,
   "metadata": {},
   "outputs": [],
   "source": [
    "def check_conditions(U, L):\n",
    "    return check_positive(U) and check_positive(L)  and check_constraints(U)"
   ]
  },
  {
   "cell_type": "code",
   "execution_count": 5,
   "metadata": {},
   "outputs": [],
   "source": [
    "from sympy import symbols, Eq, solve\n",
    "\n",
    "def construct_equations():\n",
    "    global N, A, ALPHA, BETA, GAMMA, R\n",
    "\n",
    "    us = symbols(\", \".join([f\"u{i}\" for i in range(N)]))\n",
    "    ls = symbols(\", \".join([f\"l{i}\" for i in range(N)]))\n",
    "\n",
    "    equations = []\n",
    "    equations.append(Eq(ls[-1] , 2 * BETA[-1] * us[-1]))\n",
    "    equations.append(Eq(ls[0]*us[0] , ls[0]*(R[0]-A)))\n",
    "\n",
    "    for k in range(N-1):\n",
    "        equations.append(Eq(ls[k] , 2 * BETA[k] * us[k] + sum(ALPHA[k+1:]) - sum(ls[k+1:])))\n",
    "    for k in range(1, N):\n",
    "        equations.append(Eq(ls[k]*us[k] , ls[k]*(-A - sum(us[:k]) + sum(R[:k+1]) )))\n",
    "\n",
    "    return equations, us + ls\n"
   ]
  },
  {
   "cell_type": "code",
   "execution_count": 6,
   "metadata": {},
   "outputs": [],
   "source": [
    "N = 2\n",
    "A = 2\n",
    "ALPHA = [2, 3]\n",
    "BETA = [4, 5]\n",
    "GAMMA = [1, 2]\n",
    "R = [6, 7]\n",
    "\n",
    "\n",
    "# N = 7\n",
    "# A = 10\n",
    "# ALPHA = [i+10 for i in range(N)]\n",
    "# BETA = [(i+1)**2 for i in range(N)]\n",
    "# GAMMA = [i for i in range(N)]\n",
    "# R = [N-i +1 for i in range(N)]"
   ]
  },
  {
   "cell_type": "code",
   "execution_count": 7,
   "metadata": {},
   "outputs": [
    {
     "data": {
      "text/plain": [
       "[(-3/8, 0, 0, 0), (4, 0, 35, 0), (4, 7, -35, 70), (107/18, 91/18, 0, 455/9)]"
      ]
     },
     "execution_count": 7,
     "metadata": {},
     "output_type": "execute_result"
    }
   ],
   "source": [
    "equations, variables =  construct_equations()\n",
    "solutions = solve(equations, variables)\n",
    "solutions"
   ]
  },
  {
   "cell_type": "code",
   "execution_count": 8,
   "metadata": {},
   "outputs": [
    {
     "data": {
      "text/plain": [
       "[((-3/8, 0), (0, 0)),\n",
       " ((4, 0), (35, 0)),\n",
       " ((4, 7), (-35, 70)),\n",
       " ((107/18, 91/18), (0, 455/9))]"
      ]
     },
     "execution_count": 8,
     "metadata": {},
     "output_type": "execute_result"
    }
   ],
   "source": [
    "# separate U and Lambdas\n",
    "solutions = list(map(lambda x: (x[:N], x[N:]), solutions))\n",
    "solutions"
   ]
  },
  {
   "cell_type": "code",
   "execution_count": 9,
   "metadata": {},
   "outputs": [
    {
     "data": {
      "text/plain": [
       "[((107/18, 91/18), (0, 455/9))]"
      ]
     },
     "execution_count": 9,
     "metadata": {},
     "output_type": "execute_result"
    }
   ],
   "source": [
    "admirable_solutions = list(filter( lambda x: check_conditions(*x)  ,solutions))\n",
    "admirable_solutions"
   ]
  },
  {
   "cell_type": "code",
   "execution_count": 10,
   "metadata": {},
   "outputs": [
    {
     "name": "stdout",
     "output_type": "stream",
     "text": [
      "Optimal solution U: = (107/18, 91/18)\n",
      "with total cost = 10151/36\n",
      "\n",
      "Optimal solution U (float): = (5.944444444444445, 5.055555555555555)\n",
      "with total cost (float) = 281.97222222222223\n",
      "\n"
     ]
    }
   ],
   "source": [
    "optimal_solution, total_cost = min(map(lambda x: (x[0], J(x[0])), admirable_solutions), key = lambda x: x[1])\n",
    "\n",
    "print(f\"Optimal solution U: = {optimal_solution}\\nwith total cost = {total_cost}\\n\")\n",
    "print(f\"Optimal solution U (float): = {tuple(map(float, optimal_solution))}\\nwith total cost (float) = {float(total_cost)}\\n\")"
   ]
  }
 ],
 "metadata": {
  "kernelspec": {
   "display_name": "Python 3",
   "language": "python",
   "name": "python3"
  },
  "language_info": {
   "codemirror_mode": {
    "name": "ipython",
    "version": 3
   },
   "file_extension": ".py",
   "mimetype": "text/x-python",
   "name": "python",
   "nbconvert_exporter": "python",
   "pygments_lexer": "ipython3",
   "version": "3.10.11"
  },
  "orig_nbformat": 4
 },
 "nbformat": 4,
 "nbformat_minor": 2
}
